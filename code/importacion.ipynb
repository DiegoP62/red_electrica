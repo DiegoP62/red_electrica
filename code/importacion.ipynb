{
 "cells": [
  {
   "cell_type": "markdown",
   "metadata": {},
   "source": [
    "# Importación inicial"
   ]
  },
  {
   "cell_type": "code",
   "execution_count": 6,
   "metadata": {},
   "outputs": [],
   "source": [
    "import pandas as pd\n",
    "import numpy as np\n",
    "import matplotlib.pyplot as plt\n",
    "%matplotlib inline\n",
    "import seaborn as sns"
   ]
  },
  {
   "cell_type": "code",
   "execution_count": 30,
   "metadata": {},
   "outputs": [],
   "source": [
    "df1 = pd.read_csv(r\"C:\\Users\\dpine\\red_electrica\\red_electrica\\data\\export_DemandaReal_2025-03-31_12_13.csv\", sep = \";\")\n",
    "df2 = pd.read_csv(r\"C:\\Users\\dpine\\red_electrica\\red_electrica\\data\\export_DemandaReal_2025-03-31_12_14.csv\", sep = \";\")\n",
    "df3 = pd.read_csv(r\"C:\\Users\\dpine\\red_electrica\\red_electrica\\data\\export_DemandaReal_2025-03-31_12_16.csv\", sep = \";\")\n",
    "df4 = pd.read_csv(r\"C:\\Users\\dpine\\red_electrica\\red_electrica\\data\\export_DemandaReal_2025-03-31_12_18.csv\", sep = \";\")"
   ]
  },
  {
   "cell_type": "code",
   "execution_count": 31,
   "metadata": {},
   "outputs": [
    {
     "data": {
      "text/html": [
       "<div>\n",
       "<style scoped>\n",
       "    .dataframe tbody tr th:only-of-type {\n",
       "        vertical-align: middle;\n",
       "    }\n",
       "\n",
       "    .dataframe tbody tr th {\n",
       "        vertical-align: top;\n",
       "    }\n",
       "\n",
       "    .dataframe thead th {\n",
       "        text-align: right;\n",
       "    }\n",
       "</style>\n",
       "<table border=\"1\" class=\"dataframe\">\n",
       "  <thead>\n",
       "    <tr style=\"text-align: right;\">\n",
       "      <th></th>\n",
       "      <th>id</th>\n",
       "      <th>name</th>\n",
       "      <th>geoid</th>\n",
       "      <th>geoname</th>\n",
       "      <th>value</th>\n",
       "      <th>datetime</th>\n",
       "    </tr>\n",
       "  </thead>\n",
       "  <tbody>\n",
       "    <tr>\n",
       "      <th>0</th>\n",
       "      <td>1293</td>\n",
       "      <td>Demanda real</td>\n",
       "      <td>NaN</td>\n",
       "      <td>NaN</td>\n",
       "      <td>24301.666667</td>\n",
       "      <td>2014-01-01T00:00:00+01:00</td>\n",
       "    </tr>\n",
       "    <tr>\n",
       "      <th>1</th>\n",
       "      <td>1293</td>\n",
       "      <td>Demanda real</td>\n",
       "      <td>NaN</td>\n",
       "      <td>NaN</td>\n",
       "      <td>23365.333333</td>\n",
       "      <td>2014-01-01T01:00:00+01:00</td>\n",
       "    </tr>\n",
       "    <tr>\n",
       "      <th>2</th>\n",
       "      <td>1293</td>\n",
       "      <td>Demanda real</td>\n",
       "      <td>NaN</td>\n",
       "      <td>NaN</td>\n",
       "      <td>21672.500000</td>\n",
       "      <td>2014-01-01T02:00:00+01:00</td>\n",
       "    </tr>\n",
       "    <tr>\n",
       "      <th>3</th>\n",
       "      <td>1293</td>\n",
       "      <td>Demanda real</td>\n",
       "      <td>NaN</td>\n",
       "      <td>NaN</td>\n",
       "      <td>20192.000000</td>\n",
       "      <td>2014-01-01T03:00:00+01:00</td>\n",
       "    </tr>\n",
       "    <tr>\n",
       "      <th>4</th>\n",
       "      <td>1293</td>\n",
       "      <td>Demanda real</td>\n",
       "      <td>NaN</td>\n",
       "      <td>NaN</td>\n",
       "      <td>19220.666667</td>\n",
       "      <td>2014-01-01T04:00:00+01:00</td>\n",
       "    </tr>\n",
       "    <tr>\n",
       "      <th>...</th>\n",
       "      <td>...</td>\n",
       "      <td>...</td>\n",
       "      <td>...</td>\n",
       "      <td>...</td>\n",
       "      <td>...</td>\n",
       "      <td>...</td>\n",
       "    </tr>\n",
       "    <tr>\n",
       "      <th>19578</th>\n",
       "      <td>1293</td>\n",
       "      <td>Demanda real</td>\n",
       "      <td>NaN</td>\n",
       "      <td>NaN</td>\n",
       "      <td>31699.333333</td>\n",
       "      <td>2025-03-27T19:00:00+01:00</td>\n",
       "    </tr>\n",
       "    <tr>\n",
       "      <th>19579</th>\n",
       "      <td>1293</td>\n",
       "      <td>Demanda real</td>\n",
       "      <td>NaN</td>\n",
       "      <td>NaN</td>\n",
       "      <td>34057.666667</td>\n",
       "      <td>2025-03-27T20:00:00+01:00</td>\n",
       "    </tr>\n",
       "    <tr>\n",
       "      <th>19580</th>\n",
       "      <td>1293</td>\n",
       "      <td>Demanda real</td>\n",
       "      <td>NaN</td>\n",
       "      <td>NaN</td>\n",
       "      <td>33419.916667</td>\n",
       "      <td>2025-03-27T21:00:00+01:00</td>\n",
       "    </tr>\n",
       "    <tr>\n",
       "      <th>19581</th>\n",
       "      <td>1293</td>\n",
       "      <td>Demanda real</td>\n",
       "      <td>NaN</td>\n",
       "      <td>NaN</td>\n",
       "      <td>30213.250000</td>\n",
       "      <td>2025-03-27T22:00:00+01:00</td>\n",
       "    </tr>\n",
       "    <tr>\n",
       "      <th>19582</th>\n",
       "      <td>1293</td>\n",
       "      <td>Demanda real</td>\n",
       "      <td>NaN</td>\n",
       "      <td>NaN</td>\n",
       "      <td>27465.083333</td>\n",
       "      <td>2025-03-27T23:00:00+01:00</td>\n",
       "    </tr>\n",
       "  </tbody>\n",
       "</table>\n",
       "<p>98489 rows × 6 columns</p>\n",
       "</div>"
      ],
      "text/plain": [
       "         id          name  geoid  geoname         value  \\\n",
       "0      1293  Demanda real    NaN      NaN  24301.666667   \n",
       "1      1293  Demanda real    NaN      NaN  23365.333333   \n",
       "2      1293  Demanda real    NaN      NaN  21672.500000   \n",
       "3      1293  Demanda real    NaN      NaN  20192.000000   \n",
       "4      1293  Demanda real    NaN      NaN  19220.666667   \n",
       "...     ...           ...    ...      ...           ...   \n",
       "19578  1293  Demanda real    NaN      NaN  31699.333333   \n",
       "19579  1293  Demanda real    NaN      NaN  34057.666667   \n",
       "19580  1293  Demanda real    NaN      NaN  33419.916667   \n",
       "19581  1293  Demanda real    NaN      NaN  30213.250000   \n",
       "19582  1293  Demanda real    NaN      NaN  27465.083333   \n",
       "\n",
       "                        datetime  \n",
       "0      2014-01-01T00:00:00+01:00  \n",
       "1      2014-01-01T01:00:00+01:00  \n",
       "2      2014-01-01T02:00:00+01:00  \n",
       "3      2014-01-01T03:00:00+01:00  \n",
       "4      2014-01-01T04:00:00+01:00  \n",
       "...                          ...  \n",
       "19578  2025-03-27T19:00:00+01:00  \n",
       "19579  2025-03-27T20:00:00+01:00  \n",
       "19580  2025-03-27T21:00:00+01:00  \n",
       "19581  2025-03-27T22:00:00+01:00  \n",
       "19582  2025-03-27T23:00:00+01:00  \n",
       "\n",
       "[98489 rows x 6 columns]"
      ]
     },
     "execution_count": 31,
     "metadata": {},
     "output_type": "execute_result"
    }
   ],
   "source": [
    "df = pd.concat([df1,df2,df3,df4], axis = 0)\n",
    "df"
   ]
  },
  {
   "cell_type": "markdown",
   "metadata": {},
   "source": [
    "# Calidad de datos"
   ]
  },
  {
   "cell_type": "code",
   "execution_count": 9,
   "metadata": {},
   "outputs": [
    {
     "name": "stdout",
     "output_type": "stream",
     "text": [
      "<class 'pandas.core.frame.DataFrame'>\n",
      "Index: 98489 entries, 0 to 19582\n",
      "Data columns (total 6 columns):\n",
      " #   Column    Non-Null Count  Dtype  \n",
      "---  ------    --------------  -----  \n",
      " 0   id        98489 non-null  int64  \n",
      " 1   name      98489 non-null  object \n",
      " 2   geoid     0 non-null      float64\n",
      " 3   geoname   0 non-null      float64\n",
      " 4   value     98489 non-null  float64\n",
      " 5   datetime  98489 non-null  object \n",
      "dtypes: float64(3), int64(1), object(2)\n",
      "memory usage: 5.3+ MB\n"
     ]
    }
   ],
   "source": [
    "df.info()"
   ]
  },
  {
   "cell_type": "code",
   "execution_count": 10,
   "metadata": {},
   "outputs": [
    {
     "data": {
      "text/plain": [
       "id              0\n",
       "name            0\n",
       "geoid       98489\n",
       "geoname     98489\n",
       "value           0\n",
       "datetime        0\n",
       "dtype: int64"
      ]
     },
     "execution_count": 10,
     "metadata": {},
     "output_type": "execute_result"
    }
   ],
   "source": [
    "df.isna().sum()"
   ]
  },
  {
   "cell_type": "code",
   "execution_count": 11,
   "metadata": {},
   "outputs": [
    {
     "data": {
      "text/plain": [
       "id              1\n",
       "name            1\n",
       "geoid           0\n",
       "geoname         0\n",
       "value       69730\n",
       "datetime    98489\n",
       "dtype: int64"
      ]
     },
     "execution_count": 11,
     "metadata": {},
     "output_type": "execute_result"
    }
   ],
   "source": [
    "df.nunique()"
   ]
  },
  {
   "cell_type": "code",
   "execution_count": 12,
   "metadata": {},
   "outputs": [],
   "source": [
    "df.drop(columns = [\"id\",\"name\",\"geoid\",\"geoname\"], inplace = True)"
   ]
  },
  {
   "cell_type": "code",
   "execution_count": 13,
   "metadata": {},
   "outputs": [
    {
     "data": {
      "text/plain": [
       "np.int64(0)"
      ]
     },
     "execution_count": 13,
     "metadata": {},
     "output_type": "execute_result"
    }
   ],
   "source": [
    "df.duplicated().sum()"
   ]
  },
  {
   "cell_type": "code",
   "execution_count": 14,
   "metadata": {},
   "outputs": [],
   "source": [
    "df[\"datetime\"] = pd.to_datetime(df[\"datetime\"], utc = True)"
   ]
  },
  {
   "cell_type": "code",
   "execution_count": 15,
   "metadata": {},
   "outputs": [],
   "source": [
    "df[\"value\"] = df[\"value\"].astype(\"float32\")"
   ]
  },
  {
   "cell_type": "code",
   "execution_count": 16,
   "metadata": {},
   "outputs": [],
   "source": [
    "df.rename(columns = {\"datetime\":\"date\"}, inplace = True)"
   ]
  },
  {
   "cell_type": "code",
   "execution_count": 17,
   "metadata": {},
   "outputs": [
    {
     "data": {
      "text/plain": [
       "value                float32\n",
       "date     datetime64[ns, UTC]\n",
       "dtype: object"
      ]
     },
     "execution_count": 17,
     "metadata": {},
     "output_type": "execute_result"
    }
   ],
   "source": [
    "df.dtypes"
   ]
  },
  {
   "cell_type": "markdown",
   "metadata": {},
   "source": [
    "# Añadimos variables de interés"
   ]
  },
  {
   "cell_type": "code",
   "execution_count": 18,
   "metadata": {},
   "outputs": [],
   "source": [
    "df[\"hora\"] = df.date.dt.hour"
   ]
  },
  {
   "cell_type": "code",
   "execution_count": 19,
   "metadata": {},
   "outputs": [],
   "source": [
    "df[\"dia_semana\"] = df.date.dt.weekday"
   ]
  },
  {
   "cell_type": "code",
   "execution_count": 20,
   "metadata": {},
   "outputs": [],
   "source": [
    "df[\"mes\"] = df.date.dt.month"
   ]
  },
  {
   "cell_type": "code",
   "execution_count": 21,
   "metadata": {},
   "outputs": [],
   "source": [
    "df[\"trimestre\"] = df.date.dt.quarter"
   ]
  },
  {
   "cell_type": "code",
   "execution_count": 22,
   "metadata": {},
   "outputs": [],
   "source": [
    "df[\"año\"] = df.date.dt.year"
   ]
  },
  {
   "cell_type": "code",
   "execution_count": 26,
   "metadata": {},
   "outputs": [],
   "source": [
    "import holidays\n",
    "\n",
    "es_holidays = holidays.Spain(years=[2014,2015,2016,2017,2018,2019,2020,2021,2022,2023,2024,2025], observed = True)\n",
    "\n",
    "df[\"festivo\"] = df[\"date\"].dt.date.isin(es_holidays.keys()).astype(int)"
   ]
  },
  {
   "cell_type": "code",
   "execution_count": 24,
   "metadata": {},
   "outputs": [
    {
     "name": "stderr",
     "output_type": "stream",
     "text": [
      "c:\\Users\\dpine\\red_electrica\\red_electrica\\venv2\\Lib\\site-packages\\openpyxl\\styles\\stylesheet.py:237: UserWarning: Workbook contains no default style, apply openpyxl's default\n",
      "  warn(\"Workbook contains no default style, apply openpyxl's default\")\n"
     ]
    }
   ],
   "source": [
    "pib = pd.read_excel(r\"C:\\Users\\dpine\\red_electrica\\red_electrica\\data\\PIB_trimestral_excel.xlsx\")\n",
    "pib = pib.iloc[8:52,0:2]\n",
    "df['año_trimestre'] = df['año'].astype(str) + 'T' + df['trimestre'].astype(str)\n",
    "df = df.merge(pib, how= \"left\", left_on = \"año_trimestre\", right_on = \"Series de resultados detallados\")\n",
    "df.drop(columns = [\"año_trimestre\", \"Series de resultados detallados\"], inplace = True)\n",
    "df.rename(columns = {\"Unnamed: 1\":\"pib_trimestral\"}, inplace = True)"
   ]
  },
  {
   "cell_type": "code",
   "execution_count": 25,
   "metadata": {},
   "outputs": [
    {
     "data": {
      "text/html": [
       "<div>\n",
       "<style scoped>\n",
       "    .dataframe tbody tr th:only-of-type {\n",
       "        vertical-align: middle;\n",
       "    }\n",
       "\n",
       "    .dataframe tbody tr th {\n",
       "        vertical-align: top;\n",
       "    }\n",
       "\n",
       "    .dataframe thead th {\n",
       "        text-align: right;\n",
       "    }\n",
       "</style>\n",
       "<table border=\"1\" class=\"dataframe\">\n",
       "  <thead>\n",
       "    <tr style=\"text-align: right;\">\n",
       "      <th></th>\n",
       "      <th>value</th>\n",
       "      <th>date</th>\n",
       "      <th>hora</th>\n",
       "      <th>dia_semana</th>\n",
       "      <th>mes</th>\n",
       "      <th>trimestre</th>\n",
       "      <th>año</th>\n",
       "      <th>festivo</th>\n",
       "      <th>pib_trimestral</th>\n",
       "    </tr>\n",
       "  </thead>\n",
       "  <tbody>\n",
       "    <tr>\n",
       "      <th>0</th>\n",
       "      <td>24301.666016</td>\n",
       "      <td>2013-12-31 23:00:00+00:00</td>\n",
       "      <td>23</td>\n",
       "      <td>1</td>\n",
       "      <td>12</td>\n",
       "      <td>4</td>\n",
       "      <td>2013</td>\n",
       "      <td>0</td>\n",
       "      <td>NaN</td>\n",
       "    </tr>\n",
       "    <tr>\n",
       "      <th>1</th>\n",
       "      <td>23365.333984</td>\n",
       "      <td>2014-01-01 00:00:00+00:00</td>\n",
       "      <td>0</td>\n",
       "      <td>2</td>\n",
       "      <td>1</td>\n",
       "      <td>1</td>\n",
       "      <td>2014</td>\n",
       "      <td>1</td>\n",
       "      <td>249575</td>\n",
       "    </tr>\n",
       "    <tr>\n",
       "      <th>2</th>\n",
       "      <td>21672.500000</td>\n",
       "      <td>2014-01-01 01:00:00+00:00</td>\n",
       "      <td>1</td>\n",
       "      <td>2</td>\n",
       "      <td>1</td>\n",
       "      <td>1</td>\n",
       "      <td>2014</td>\n",
       "      <td>1</td>\n",
       "      <td>249575</td>\n",
       "    </tr>\n",
       "    <tr>\n",
       "      <th>3</th>\n",
       "      <td>20192.000000</td>\n",
       "      <td>2014-01-01 02:00:00+00:00</td>\n",
       "      <td>2</td>\n",
       "      <td>2</td>\n",
       "      <td>1</td>\n",
       "      <td>1</td>\n",
       "      <td>2014</td>\n",
       "      <td>1</td>\n",
       "      <td>249575</td>\n",
       "    </tr>\n",
       "    <tr>\n",
       "      <th>4</th>\n",
       "      <td>19220.666016</td>\n",
       "      <td>2014-01-01 03:00:00+00:00</td>\n",
       "      <td>3</td>\n",
       "      <td>2</td>\n",
       "      <td>1</td>\n",
       "      <td>1</td>\n",
       "      <td>2014</td>\n",
       "      <td>1</td>\n",
       "      <td>249575</td>\n",
       "    </tr>\n",
       "    <tr>\n",
       "      <th>...</th>\n",
       "      <td>...</td>\n",
       "      <td>...</td>\n",
       "      <td>...</td>\n",
       "      <td>...</td>\n",
       "      <td>...</td>\n",
       "      <td>...</td>\n",
       "      <td>...</td>\n",
       "      <td>...</td>\n",
       "      <td>...</td>\n",
       "    </tr>\n",
       "    <tr>\n",
       "      <th>98484</th>\n",
       "      <td>31699.333984</td>\n",
       "      <td>2025-03-27 18:00:00+00:00</td>\n",
       "      <td>18</td>\n",
       "      <td>3</td>\n",
       "      <td>3</td>\n",
       "      <td>1</td>\n",
       "      <td>2025</td>\n",
       "      <td>0</td>\n",
       "      <td>NaN</td>\n",
       "    </tr>\n",
       "    <tr>\n",
       "      <th>98485</th>\n",
       "      <td>34057.667969</td>\n",
       "      <td>2025-03-27 19:00:00+00:00</td>\n",
       "      <td>19</td>\n",
       "      <td>3</td>\n",
       "      <td>3</td>\n",
       "      <td>1</td>\n",
       "      <td>2025</td>\n",
       "      <td>0</td>\n",
       "      <td>NaN</td>\n",
       "    </tr>\n",
       "    <tr>\n",
       "      <th>98486</th>\n",
       "      <td>33419.917969</td>\n",
       "      <td>2025-03-27 20:00:00+00:00</td>\n",
       "      <td>20</td>\n",
       "      <td>3</td>\n",
       "      <td>3</td>\n",
       "      <td>1</td>\n",
       "      <td>2025</td>\n",
       "      <td>0</td>\n",
       "      <td>NaN</td>\n",
       "    </tr>\n",
       "    <tr>\n",
       "      <th>98487</th>\n",
       "      <td>30213.250000</td>\n",
       "      <td>2025-03-27 21:00:00+00:00</td>\n",
       "      <td>21</td>\n",
       "      <td>3</td>\n",
       "      <td>3</td>\n",
       "      <td>1</td>\n",
       "      <td>2025</td>\n",
       "      <td>0</td>\n",
       "      <td>NaN</td>\n",
       "    </tr>\n",
       "    <tr>\n",
       "      <th>98488</th>\n",
       "      <td>27465.083984</td>\n",
       "      <td>2025-03-27 22:00:00+00:00</td>\n",
       "      <td>22</td>\n",
       "      <td>3</td>\n",
       "      <td>3</td>\n",
       "      <td>1</td>\n",
       "      <td>2025</td>\n",
       "      <td>0</td>\n",
       "      <td>NaN</td>\n",
       "    </tr>\n",
       "  </tbody>\n",
       "</table>\n",
       "<p>98489 rows × 9 columns</p>\n",
       "</div>"
      ],
      "text/plain": [
       "              value                      date  hora  dia_semana  mes  \\\n",
       "0      24301.666016 2013-12-31 23:00:00+00:00    23           1   12   \n",
       "1      23365.333984 2014-01-01 00:00:00+00:00     0           2    1   \n",
       "2      21672.500000 2014-01-01 01:00:00+00:00     1           2    1   \n",
       "3      20192.000000 2014-01-01 02:00:00+00:00     2           2    1   \n",
       "4      19220.666016 2014-01-01 03:00:00+00:00     3           2    1   \n",
       "...             ...                       ...   ...         ...  ...   \n",
       "98484  31699.333984 2025-03-27 18:00:00+00:00    18           3    3   \n",
       "98485  34057.667969 2025-03-27 19:00:00+00:00    19           3    3   \n",
       "98486  33419.917969 2025-03-27 20:00:00+00:00    20           3    3   \n",
       "98487  30213.250000 2025-03-27 21:00:00+00:00    21           3    3   \n",
       "98488  27465.083984 2025-03-27 22:00:00+00:00    22           3    3   \n",
       "\n",
       "       trimestre   año  festivo pib_trimestral  \n",
       "0              4  2013        0            NaN  \n",
       "1              1  2014        1         249575  \n",
       "2              1  2014        1         249575  \n",
       "3              1  2014        1         249575  \n",
       "4              1  2014        1         249575  \n",
       "...          ...   ...      ...            ...  \n",
       "98484          1  2025        0            NaN  \n",
       "98485          1  2025        0            NaN  \n",
       "98486          1  2025        0            NaN  \n",
       "98487          1  2025        0            NaN  \n",
       "98488          1  2025        0            NaN  \n",
       "\n",
       "[98489 rows x 9 columns]"
      ]
     },
     "execution_count": 25,
     "metadata": {},
     "output_type": "execute_result"
    }
   ],
   "source": [
    "df"
   ]
  },
  {
   "cell_type": "code",
   "execution_count": 35,
   "metadata": {},
   "outputs": [
    {
     "data": {
      "text/html": [
       "<div>\n",
       "<style scoped>\n",
       "    .dataframe tbody tr th:only-of-type {\n",
       "        vertical-align: middle;\n",
       "    }\n",
       "\n",
       "    .dataframe tbody tr th {\n",
       "        vertical-align: top;\n",
       "    }\n",
       "\n",
       "    .dataframe thead th {\n",
       "        text-align: right;\n",
       "    }\n",
       "</style>\n",
       "<table border=\"1\" class=\"dataframe\">\n",
       "  <thead>\n",
       "    <tr style=\"text-align: right;\">\n",
       "      <th></th>\n",
       "      <th>id</th>\n",
       "      <th>name</th>\n",
       "      <th>geoid</th>\n",
       "      <th>geoname</th>\n",
       "      <th>value</th>\n",
       "      <th>datetime</th>\n",
       "    </tr>\n",
       "  </thead>\n",
       "  <tbody>\n",
       "    <tr>\n",
       "      <th>0</th>\n",
       "      <td>1293</td>\n",
       "      <td>Demanda real</td>\n",
       "      <td>NaN</td>\n",
       "      <td>NaN</td>\n",
       "      <td>24301.666667</td>\n",
       "      <td>2014-01-01T00:00:00+01:00</td>\n",
       "    </tr>\n",
       "    <tr>\n",
       "      <th>1</th>\n",
       "      <td>1293</td>\n",
       "      <td>Demanda real</td>\n",
       "      <td>NaN</td>\n",
       "      <td>NaN</td>\n",
       "      <td>23365.333333</td>\n",
       "      <td>2014-01-01T01:00:00+01:00</td>\n",
       "    </tr>\n",
       "    <tr>\n",
       "      <th>2</th>\n",
       "      <td>1293</td>\n",
       "      <td>Demanda real</td>\n",
       "      <td>NaN</td>\n",
       "      <td>NaN</td>\n",
       "      <td>21672.500000</td>\n",
       "      <td>2014-01-01T02:00:00+01:00</td>\n",
       "    </tr>\n",
       "    <tr>\n",
       "      <th>3</th>\n",
       "      <td>1293</td>\n",
       "      <td>Demanda real</td>\n",
       "      <td>NaN</td>\n",
       "      <td>NaN</td>\n",
       "      <td>20192.000000</td>\n",
       "      <td>2014-01-01T03:00:00+01:00</td>\n",
       "    </tr>\n",
       "    <tr>\n",
       "      <th>4</th>\n",
       "      <td>1293</td>\n",
       "      <td>Demanda real</td>\n",
       "      <td>NaN</td>\n",
       "      <td>NaN</td>\n",
       "      <td>19220.666667</td>\n",
       "      <td>2014-01-01T04:00:00+01:00</td>\n",
       "    </tr>\n",
       "    <tr>\n",
       "      <th>...</th>\n",
       "      <td>...</td>\n",
       "      <td>...</td>\n",
       "      <td>...</td>\n",
       "      <td>...</td>\n",
       "      <td>...</td>\n",
       "      <td>...</td>\n",
       "    </tr>\n",
       "    <tr>\n",
       "      <th>19578</th>\n",
       "      <td>1293</td>\n",
       "      <td>Demanda real</td>\n",
       "      <td>NaN</td>\n",
       "      <td>NaN</td>\n",
       "      <td>31699.333333</td>\n",
       "      <td>2025-03-27T19:00:00+01:00</td>\n",
       "    </tr>\n",
       "    <tr>\n",
       "      <th>19579</th>\n",
       "      <td>1293</td>\n",
       "      <td>Demanda real</td>\n",
       "      <td>NaN</td>\n",
       "      <td>NaN</td>\n",
       "      <td>34057.666667</td>\n",
       "      <td>2025-03-27T20:00:00+01:00</td>\n",
       "    </tr>\n",
       "    <tr>\n",
       "      <th>19580</th>\n",
       "      <td>1293</td>\n",
       "      <td>Demanda real</td>\n",
       "      <td>NaN</td>\n",
       "      <td>NaN</td>\n",
       "      <td>33419.916667</td>\n",
       "      <td>2025-03-27T21:00:00+01:00</td>\n",
       "    </tr>\n",
       "    <tr>\n",
       "      <th>19581</th>\n",
       "      <td>1293</td>\n",
       "      <td>Demanda real</td>\n",
       "      <td>NaN</td>\n",
       "      <td>NaN</td>\n",
       "      <td>30213.250000</td>\n",
       "      <td>2025-03-27T22:00:00+01:00</td>\n",
       "    </tr>\n",
       "    <tr>\n",
       "      <th>19582</th>\n",
       "      <td>1293</td>\n",
       "      <td>Demanda real</td>\n",
       "      <td>NaN</td>\n",
       "      <td>NaN</td>\n",
       "      <td>27465.083333</td>\n",
       "      <td>2025-03-27T23:00:00+01:00</td>\n",
       "    </tr>\n",
       "  </tbody>\n",
       "</table>\n",
       "<p>98489 rows × 6 columns</p>\n",
       "</div>"
      ],
      "text/plain": [
       "         id          name  geoid  geoname         value  \\\n",
       "0      1293  Demanda real    NaN      NaN  24301.666667   \n",
       "1      1293  Demanda real    NaN      NaN  23365.333333   \n",
       "2      1293  Demanda real    NaN      NaN  21672.500000   \n",
       "3      1293  Demanda real    NaN      NaN  20192.000000   \n",
       "4      1293  Demanda real    NaN      NaN  19220.666667   \n",
       "...     ...           ...    ...      ...           ...   \n",
       "19578  1293  Demanda real    NaN      NaN  31699.333333   \n",
       "19579  1293  Demanda real    NaN      NaN  34057.666667   \n",
       "19580  1293  Demanda real    NaN      NaN  33419.916667   \n",
       "19581  1293  Demanda real    NaN      NaN  30213.250000   \n",
       "19582  1293  Demanda real    NaN      NaN  27465.083333   \n",
       "\n",
       "                        datetime  \n",
       "0      2014-01-01T00:00:00+01:00  \n",
       "1      2014-01-01T01:00:00+01:00  \n",
       "2      2014-01-01T02:00:00+01:00  \n",
       "3      2014-01-01T03:00:00+01:00  \n",
       "4      2014-01-01T04:00:00+01:00  \n",
       "...                          ...  \n",
       "19578  2025-03-27T19:00:00+01:00  \n",
       "19579  2025-03-27T20:00:00+01:00  \n",
       "19580  2025-03-27T21:00:00+01:00  \n",
       "19581  2025-03-27T22:00:00+01:00  \n",
       "19582  2025-03-27T23:00:00+01:00  \n",
       "\n",
       "[98489 rows x 6 columns]"
      ]
     },
     "execution_count": 35,
     "metadata": {},
     "output_type": "execute_result"
    }
   ],
   "source": [
    "df"
   ]
  },
  {
   "cell_type": "code",
   "execution_count": 38,
   "metadata": {},
   "outputs": [
    {
     "data": {
      "image/png": "[encoded data removed]",
      "text/plain": [
       "<Figure size 2000x800 with 1 Axes>"
      ]
     },
     "metadata": {},
     "output_type": "display_data"
    }
   ],
   "source": [
    "df.set_index(\"datetime\")[\"value\"].plot(figsize = (20,8));"
   ]
  },
  {
   "cell_type": "markdown",
   "metadata": {},
   "source": [
    "atipicos, describe()"
   ]
  },
  {
   "cell_type": "markdown",
   "metadata": {},
   "source": []
  }
 ],
 "metadata": {
  "kernelspec": {
   "display_name": "venv2",
   "language": "python",
   "name": "python3"
  },
  "language_info": {
   "codemirror_mode": {
    "name": "ipython",
    "version": 3
   },
   "file_extension": ".py",
   "mimetype": "text/x-python",
   "name": "python",
   "nbconvert_exporter": "python",
   "pygments_lexer": "ipython3",
   "version": "3.12.3"
  }
 },
 "nbformat": 4,
 "nbformat_minor": 2
}
