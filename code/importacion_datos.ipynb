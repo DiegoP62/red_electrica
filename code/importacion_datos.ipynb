{
 "cells": [
  {
   "cell_type": "markdown",
   "metadata": {},
   "source": [
    "# Importación inicial"
   ]
  },
  {
   "cell_type": "code",
   "execution_count": 2,
   "metadata": {},
   "outputs": [],
   "source": [
    "import pandas as pd\n",
    "import numpy as np\n",
    "import matplotlib.pyplot as plt\n",
    "%matplotlib inline\n",
    "import seaborn as sns"
   ]
  },
  {
   "cell_type": "code",
   "execution_count": 3,
   "metadata": {},
   "outputs": [
    {
     "name": "stdout",
     "output_type": "stream",
     "text": [
      "✅ Archivo cargado en variable y diccionario: df_2014_1\n",
      "✅ Archivo cargado en variable y diccionario: df_2014_2\n",
      "✅ Archivo cargado en variable y diccionario: df_2014_3\n",
      "✅ Archivo cargado en variable y diccionario: df_2015_1\n",
      "✅ Archivo cargado en variable y diccionario: df_2015_2\n",
      "✅ Archivo cargado en variable y diccionario: df_2015_3\n",
      "✅ Archivo cargado en variable y diccionario: df_2016_1\n",
      "✅ Archivo cargado en variable y diccionario: df_2016_2\n",
      "✅ Archivo cargado en variable y diccionario: df_2016_3\n",
      "✅ Archivo cargado en variable y diccionario: df_2017_1\n",
      "✅ Archivo cargado en variable y diccionario: df_2017_2\n",
      "✅ Archivo cargado en variable y diccionario: df_2017_3\n",
      "✅ Archivo cargado en variable y diccionario: df_2018_1\n",
      "✅ Archivo cargado en variable y diccionario: df_2018_2\n",
      "✅ Archivo cargado en variable y diccionario: df_2018_3\n",
      "✅ Archivo cargado en variable y diccionario: df_2019_1\n",
      "✅ Archivo cargado en variable y diccionario: df_2019_2\n",
      "✅ Archivo cargado en variable y diccionario: df_2019_3\n",
      "✅ Archivo cargado en variable y diccionario: df_2020_1\n",
      "✅ Archivo cargado en variable y diccionario: df_2020_2\n",
      "✅ Archivo cargado en variable y diccionario: df_2020_3\n",
      "✅ Archivo cargado en variable y diccionario: df_2021_1\n",
      "✅ Archivo cargado en variable y diccionario: df_2021_2\n",
      "✅ Archivo cargado en variable y diccionario: df_2021_3\n",
      "✅ Archivo cargado en variable y diccionario: df_2022_1\n",
      "✅ Archivo cargado en variable y diccionario: df_2022_2\n",
      "✅ Archivo cargado en variable y diccionario: df_2022_3\n",
      "✅ Archivo cargado en variable y diccionario: df_2023_1\n",
      "✅ Archivo cargado en variable y diccionario: df_2023_2\n",
      "✅ Archivo cargado en variable y diccionario: df_2023_3\n",
      "✅ Archivo cargado en variable y diccionario: df_2024_1\n",
      "✅ Archivo cargado en variable y diccionario: df_2024_2\n",
      "✅ Archivo cargado en variable y diccionario: df_2024_3\n"
     ]
    }
   ],
   "source": [
    "#DATOS DE DIEGO\n",
    "import os\n",
    "\n",
    "periodos = [\"first\", \"second\", \"third\"]\n",
    "years = [2014, 2015, 2016, 2017, 2018, 2019, 2020, 2021, 2022, 2023, 2024]\n",
    "\n",
    "dfs = {}  # Diccionario para almacenar los DataFrames\n",
    "\n",
    "for year in years:\n",
    "    for idx, periodo in enumerate(periodos, start=1):\n",
    "        csv_path = os.path.join(r\"C:\\Users\\dpine\\red_electrica\\red_electrica\\data\", f\"df_{year}_{periodo}_period.csv\")\n",
    "\n",
    "        try:\n",
    "            df = pd.read_csv(csv_path)  # Cargar el archivo CSV\n",
    "\n",
    "            # Crear el nombre de la variable y guardarla en el diccionario\n",
    "            var_name = f\"df_{year}_{idx}\"\n",
    "            dfs[var_name] = df  \n",
    "\n",
    "            # Asignar la variable dinámicamente\n",
    "            globals()[var_name] = df  \n",
    "\n",
    "            print(f\"✅ Archivo cargado en variable y diccionario: {var_name}\")\n",
    "        except FileNotFoundError:\n",
    "            print(f\"⚠️ No se encontró el archivo: {csv_path}\")\n",
    "df_2025_1 = pd.read_csv(r\"C:\\Users\\dpine\\red_electrica\\red_electrica\\data\\df_2025_first_period.csv\")"
   ]
  },
  {
   "cell_type": "code",
   "execution_count": null,
   "metadata": {},
   "outputs": [],
   "source": [
    "#DATOS DE PAULA\n",
    "import os\n",
    "\n",
    "periodos = [\"first\", \"second\", \"third\"]\n",
    "years = [2014, 2015, 2016, 2017, 2018, 2019, 2020, 2021, 2022, 2023, 2024]\n",
    "\n",
    "dfs = {}  # Diccionario para almacenar los DataFrames\n",
    "\n",
    "for year in years:\n",
    "    for idx, periodo in enumerate(periodos, start=1):\n",
    "        csv_path = os.path.join(r\"C:\\Users\\dpine\\red_electrica\\red_electrica\\data\", f\"df_{year}_{periodo}_period.csv\")\n",
    "\n",
    "        try:\n",
    "            df = pd.read_csv(csv_path)  # Cargar el archivo CSV\n",
    "\n",
    "            # Crear el nombre de la variable y guardarla en el diccionario\n",
    "            var_name = f\"df_{year}_{idx}\"\n",
    "            dfs[var_name] = df  \n",
    "\n",
    "            # Asignar la variable dinámicamente\n",
    "            globals()[var_name] = df  \n",
    "\n",
    "            print(f\"✅ Archivo cargado en variable y diccionario: {var_name}\")\n",
    "        except FileNotFoundError:\n",
    "            print(f\"⚠️ No se encontró el archivo: {csv_path}\")"
   ]
  },
  {
   "cell_type": "code",
   "execution_count": null,
   "metadata": {},
   "outputs": [],
   "source": [
    "#DATOS DE JOSE\n",
    "import os\n",
    "\n",
    "periodos = [\"first\", \"second\", \"third\"]\n",
    "years = [2014, 2015, 2016, 2017, 2018, 2019, 2020, 2021, 2022, 2023, 2024]\n",
    "\n",
    "dfs = {}  # Diccionario para almacenar los DataFrames\n",
    "\n",
    "for year in years:\n",
    "    for idx, periodo in enumerate(periodos, start=1):\n",
    "        csv_path = os.path.join(r\"C:\\Users\\dpine\\red_electrica\\red_electrica\\data\", f\"df_{year}_{periodo}_period.csv\")\n",
    "\n",
    "        try:\n",
    "            df = pd.read_csv(csv_path)  # Cargar el archivo CSV\n",
    "\n",
    "            # Crear el nombre de la variable y guardarla en el diccionario\n",
    "            var_name = f\"df_{year}_{idx}\"\n",
    "            dfs[var_name] = df  \n",
    "\n",
    "            # Asignar la variable dinámicamente\n",
    "            globals()[var_name] = df  \n",
    "\n",
    "            print(f\"✅ Archivo cargado en variable y diccionario: {var_name}\")\n",
    "        except FileNotFoundError:\n",
    "            print(f\"⚠️ No se encontró el archivo: {csv_path}\")"
   ]
  },
  {
   "cell_type": "code",
   "execution_count": 4,
   "metadata": {},
   "outputs": [],
   "source": [
    "df = df_2014_1\n",
    "for x in list(dfs.keys())[1:]:\n",
    "    df = pd.concat([df,dfs[x]], axis = 0)\n",
    "df = pd.concat([df,df_2025_1], axis = 0)"
   ]
  },
  {
   "cell_type": "markdown",
   "metadata": {},
   "source": [
    "# Calidad de datos"
   ]
  },
  {
   "cell_type": "code",
   "execution_count": 6,
   "metadata": {},
   "outputs": [
    {
     "data": {
      "text/html": [
       "<div>\n",
       "<style scoped>\n",
       "    .dataframe tbody tr th:only-of-type {\n",
       "        vertical-align: middle;\n",
       "    }\n",
       "\n",
       "    .dataframe tbody tr th {\n",
       "        vertical-align: top;\n",
       "    }\n",
       "\n",
       "    .dataframe thead th {\n",
       "        text-align: right;\n",
       "    }\n",
       "</style>\n",
       "<table border=\"1\" class=\"dataframe\">\n",
       "  <thead>\n",
       "    <tr style=\"text-align: right;\">\n",
       "      <th></th>\n",
       "      <th>datetime_utc</th>\n",
       "      <th>Demanda real</th>\n",
       "    </tr>\n",
       "  </thead>\n",
       "  <tbody>\n",
       "    <tr>\n",
       "      <th>0</th>\n",
       "      <td>2013-12-31 23:00:00+00:00</td>\n",
       "      <td>24546.0</td>\n",
       "    </tr>\n",
       "    <tr>\n",
       "      <th>1</th>\n",
       "      <td>2013-12-31 23:10:00+00:00</td>\n",
       "      <td>24309.0</td>\n",
       "    </tr>\n",
       "    <tr>\n",
       "      <th>2</th>\n",
       "      <td>2013-12-31 23:20:00+00:00</td>\n",
       "      <td>24348.0</td>\n",
       "    </tr>\n",
       "    <tr>\n",
       "      <th>3</th>\n",
       "      <td>2013-12-31 23:30:00+00:00</td>\n",
       "      <td>24321.0</td>\n",
       "    </tr>\n",
       "    <tr>\n",
       "      <th>4</th>\n",
       "      <td>2013-12-31 23:40:00+00:00</td>\n",
       "      <td>24194.0</td>\n",
       "    </tr>\n",
       "  </tbody>\n",
       "</table>\n",
       "</div>"
      ],
      "text/plain": [
       "                datetime_utc  Demanda real\n",
       "0  2013-12-31 23:00:00+00:00       24546.0\n",
       "1  2013-12-31 23:10:00+00:00       24309.0\n",
       "2  2013-12-31 23:20:00+00:00       24348.0\n",
       "3  2013-12-31 23:30:00+00:00       24321.0\n",
       "4  2013-12-31 23:40:00+00:00       24194.0"
      ]
     },
     "execution_count": 6,
     "metadata": {},
     "output_type": "execute_result"
    }
   ],
   "source": [
    "df.head()"
   ]
  },
  {
   "cell_type": "code",
   "execution_count": 7,
   "metadata": {},
   "outputs": [
    {
     "name": "stdout",
     "output_type": "stream",
     "text": [
      "<class 'pandas.core.frame.DataFrame'>\n",
      "Index: 736022 entries, 0 to 26044\n",
      "Data columns (total 2 columns):\n",
      " #   Column        Non-Null Count   Dtype  \n",
      "---  ------        --------------   -----  \n",
      " 0   datetime_utc  736022 non-null  object \n",
      " 1   Demanda real  736022 non-null  float64\n",
      "dtypes: float64(1), object(1)\n",
      "memory usage: 16.8+ MB\n"
     ]
    }
   ],
   "source": [
    "df.info()"
   ]
  },
  {
   "cell_type": "code",
   "execution_count": 8,
   "metadata": {},
   "outputs": [
    {
     "data": {
      "text/plain": [
       "datetime_utc    0\n",
       "Demanda real    0\n",
       "dtype: int64"
      ]
     },
     "execution_count": 8,
     "metadata": {},
     "output_type": "execute_result"
    }
   ],
   "source": [
    "df.isna().sum()"
   ]
  },
  {
   "cell_type": "code",
   "execution_count": 9,
   "metadata": {},
   "outputs": [
    {
     "data": {
      "text/plain": [
       "datetime_utc    736022\n",
       "Demanda real     22930\n",
       "dtype: int64"
      ]
     },
     "execution_count": 9,
     "metadata": {},
     "output_type": "execute_result"
    }
   ],
   "source": [
    "df.nunique()"
   ]
  },
  {
   "cell_type": "code",
   "execution_count": 10,
   "metadata": {},
   "outputs": [
    {
     "data": {
      "text/plain": [
       "np.int64(0)"
      ]
     },
     "execution_count": 10,
     "metadata": {},
     "output_type": "execute_result"
    }
   ],
   "source": [
    "df.duplicated().sum()"
   ]
  },
  {
   "cell_type": "code",
   "execution_count": 11,
   "metadata": {},
   "outputs": [],
   "source": [
    "df[\"datetime_utc\"] = pd.to_datetime(df[\"datetime_utc\"], utc = True)"
   ]
  },
  {
   "cell_type": "code",
   "execution_count": 12,
   "metadata": {},
   "outputs": [],
   "source": [
    "df[\"Demanda real\"] = df[\"Demanda real\"].astype(\"float32\")"
   ]
  },
  {
   "cell_type": "code",
   "execution_count": 13,
   "metadata": {},
   "outputs": [],
   "source": [
    "df.rename(columns = {\"datetime_utc\":\"date\", \"Demanda real\":\"value\"}, inplace = True)"
   ]
  },
  {
   "cell_type": "code",
   "execution_count": 14,
   "metadata": {},
   "outputs": [
    {
     "data": {
      "text/plain": [
       "date     datetime64[ns, UTC]\n",
       "value                float32\n",
       "dtype: object"
      ]
     },
     "execution_count": 14,
     "metadata": {},
     "output_type": "execute_result"
    }
   ],
   "source": [
    "df.dtypes"
   ]
  },
  {
   "cell_type": "code",
   "execution_count": 15,
   "metadata": {},
   "outputs": [],
   "source": [
    "df.to_pickle(r\"C:\\Users\\dpine\\red_electrica\\red_electrica\\data\\df_2014_2025.pickle\")"
   ]
  },
  {
   "cell_type": "code",
   "execution_count": null,
   "metadata": {},
   "outputs": [],
   "source": []
  }
 ],
 "metadata": {
  "kernelspec": {
   "display_name": "venv2",
   "language": "python",
   "name": "python3"
  },
  "language_info": {
   "codemirror_mode": {
    "name": "ipython",
    "version": 3
   },
   "file_extension": ".py",
   "mimetype": "text/x-python",
   "name": "python",
   "nbconvert_exporter": "python",
   "pygments_lexer": "ipython3",
   "version": "3.12.3"
  }
 },
 "nbformat": 4,
 "nbformat_minor": 2
}
