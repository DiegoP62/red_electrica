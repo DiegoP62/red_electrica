{
 "cells": [
  {
   "cell_type": "code",
   "execution_count": 388,
   "id": "eb49b1bf",
   "metadata": {},
   "outputs": [],
   "source": [
    "import pandas as pd\n",
    "import numpy as np\n",
    "import matplotlib.pyplot as plt\n",
    "%matplotlib inline\n",
    "import seaborn as sns"
   ]
  },
  {
   "cell_type": "code",
   "execution_count": 389,
   "id": "e08d4d8a",
   "metadata": {},
   "outputs": [],
   "source": [
    "df = pd.read_pickle(r\"C:\\Users\\dpine\\red_electrica\\red_electrica\\data\\df_2014_2025.pickle\")"
   ]
  },
  {
   "cell_type": "code",
   "execution_count": 390,
   "id": "c4aab925",
   "metadata": {},
   "outputs": [],
   "source": [
    "df.set_index('date', inplace=True)"
   ]
  },
  {
   "cell_type": "code",
   "execution_count": 391,
   "id": "988049fa",
   "metadata": {},
   "outputs": [
    {
     "name": "stderr",
     "output_type": "stream",
     "text": [
      "C:\\Users\\dpine\\AppData\\Local\\Temp\\ipykernel_4240\\3965767037.py:2: FutureWarning: 'H' is deprecated and will be removed in a future version, please use 'h' instead.\n",
      "  df_hourly = df.resample('H').mean()\n"
     ]
    }
   ],
   "source": [
    "# Agrupar por hora y calcular la media\n",
    "df_hourly = df.resample('H').mean()"
   ]
  },
  {
   "cell_type": "code",
   "execution_count": 392,
   "id": "4ec9c35f",
   "metadata": {},
   "outputs": [],
   "source": [
    "df_hourly = df_hourly['value'].interpolate(method='time')"
   ]
  },
  {
   "cell_type": "code",
   "execution_count": 393,
   "id": "1489b192",
   "metadata": {},
   "outputs": [],
   "source": [
    "df_hourly = df_hourly.to_frame()"
   ]
  },
  {
   "cell_type": "code",
   "execution_count": 394,
   "id": "afd93c4c",
   "metadata": {},
   "outputs": [
    {
     "data": {
      "text/plain": [
       "value    0\n",
       "dtype: int64"
      ]
     },
     "execution_count": 394,
     "metadata": {},
     "output_type": "execute_result"
    }
   ],
   "source": [
    "df_hourly.isna().sum()"
   ]
  },
  {
   "cell_type": "code",
   "execution_count": 395,
   "id": "f12804fb",
   "metadata": {},
   "outputs": [
    {
     "data": {
      "text/plain": [
       "np.int64(28528)"
      ]
     },
     "execution_count": 395,
     "metadata": {},
     "output_type": "execute_result"
    }
   ],
   "source": [
    "df_hourly.duplicated().sum()"
   ]
  },
  {
   "cell_type": "code",
   "execution_count": 396,
   "id": "b60d1682",
   "metadata": {},
   "outputs": [],
   "source": [
    "df_hourly.drop_duplicates(inplace=True)"
   ]
  },
  {
   "cell_type": "code",
   "execution_count": 397,
   "id": "a64c353d",
   "metadata": {},
   "outputs": [],
   "source": [
    "df = df_hourly.copy()"
   ]
  },
  {
   "cell_type": "code",
   "execution_count": 398,
   "id": "41484ccd",
   "metadata": {},
   "outputs": [],
   "source": [
    "df.reset_index(inplace=True)"
   ]
  },
  {
   "cell_type": "markdown",
   "id": "df6699a2",
   "metadata": {},
   "source": [
    "# Añadimos variables de interés"
   ]
  },
  {
   "cell_type": "code",
   "execution_count": 399,
   "id": "d85ed8b6",
   "metadata": {},
   "outputs": [],
   "source": [
    "df[\"hora\"] = df.date.dt.hour"
   ]
  },
  {
   "cell_type": "code",
   "execution_count": 400,
   "id": "bfa02118",
   "metadata": {},
   "outputs": [],
   "source": [
    "df[\"dia_semana\"] = df.date.dt.weekday"
   ]
  },
  {
   "cell_type": "code",
   "execution_count": 401,
   "id": "f9b5e034",
   "metadata": {},
   "outputs": [],
   "source": [
    "df[\"mes\"] = df.date.dt.month"
   ]
  },
  {
   "cell_type": "code",
   "execution_count": 402,
   "id": "953984f8",
   "metadata": {},
   "outputs": [],
   "source": [
    "df[\"trimestre\"] = df.date.dt.quarter"
   ]
  },
  {
   "cell_type": "code",
   "execution_count": 403,
   "id": "23c7d182",
   "metadata": {},
   "outputs": [],
   "source": [
    "df[\"año\"] = df.date.dt.year"
   ]
  },
  {
   "cell_type": "code",
   "execution_count": 404,
   "id": "d703db56",
   "metadata": {},
   "outputs": [],
   "source": [
    "import holidays\n",
    "\n",
    "es_holidays = holidays.Spain(years=[2014,2015,2016,2017,2018,2019,2020,2021,2022,2023,2024,2025], observed = True)\n",
    "\n",
    "df[\"festivo\"] = df[\"date\"].dt.date.isin(es_holidays.keys()).astype(int)"
   ]
  },
  {
   "cell_type": "code",
   "execution_count": 405,
   "id": "f376e620",
   "metadata": {},
   "outputs": [],
   "source": [
    "df['fin_de_semana'] = (df['dia_semana'] >= 5).astype(int)"
   ]
  },
  {
   "cell_type": "code",
   "execution_count": 406,
   "id": "795b9620",
   "metadata": {},
   "outputs": [],
   "source": [
    "df[\"es_navidad_fin_anio\"] = (((df[\"date\"].dt.month == 12) & (df[\"date\"].dt.day.isin([31])))).astype(int)"
   ]
  },
  {
   "cell_type": "code",
   "execution_count": 407,
   "id": "a73d5dae",
   "metadata": {},
   "outputs": [],
   "source": [
    "df[\"es_verano\"] = df.mes.isin([6, 7, 8]).astype(int)\n",
    "df[\"es_navidad\"] = df.mes.isin([12, 1]).astype(int)"
   ]
  },
  {
   "cell_type": "code",
   "execution_count": 408,
   "id": "c97168ed",
   "metadata": {},
   "outputs": [
    {
     "name": "stderr",
     "output_type": "stream",
     "text": [
      "c:\\Users\\dpine\\red_electrica\\red_electrica\\venv2\\Lib\\site-packages\\openpyxl\\styles\\stylesheet.py:237: UserWarning: Workbook contains no default style, apply openpyxl's default\n",
      "  warn(\"Workbook contains no default style, apply openpyxl's default\")\n"
     ]
    }
   ],
   "source": [
    "pib = pd.read_excel(r\"C:\\Users\\dpine\\red_electrica\\red_electrica\\data\\PIB_trimestral_excel.xlsx\")\n",
    "pib = pib.iloc[8:52,0:2]\n",
    "dato = pib.loc[pib[\"Series de resultados detallados\"] == \"2024T4\"][\"Unnamed: 1\"].values[0] * 1.06\n",
    "dato = pd.DataFrame({'Series de resultados detallados': [\"2025T1\"], 'Unnamed: 1': [dato]})  # Nueva fila como DataFrame\n",
    "pib = pd.concat([pib, dato], ignore_index=True)\n",
    "\n",
    "df['año_trimestre'] = df['año'].astype(str) + 'T' + df['trimestre'].astype(str)\n",
    "df = df.merge(pib, how= \"left\", left_on = \"año_trimestre\", right_on = \"Series de resultados detallados\")\n",
    "df.drop(columns = [\"año_trimestre\", \"Series de resultados detallados\"], inplace = True)\n",
    "df.rename(columns = {\"Unnamed: 1\":\"pib_trimestral\"}, inplace = True)"
   ]
  },
  {
   "cell_type": "markdown",
   "id": "e09ecb12",
   "metadata": {},
   "source": [
    "## Variables de lag"
   ]
  },
  {
   "cell_type": "code",
   "execution_count": 409,
   "id": "f9171e7c",
   "metadata": {},
   "outputs": [],
   "source": [
    "def crear_lags(df, variable, num_lags = 7):\n",
    "    \n",
    "    #Crea el objeto dataframe\n",
    "    lags = pd.DataFrame()\n",
    "    \n",
    "    #Crea todos los lags\n",
    "    for cada in range(1,num_lags+1):\n",
    "        lags[variable + '_lag_'+ str(cada)] = df[variable].shift(cada)\n",
    "    \n",
    "    #Devuelve el dataframe de lags\n",
    "    return(lags)"
   ]
  },
  {
   "cell_type": "code",
   "execution_count": 410,
   "id": "041760e6",
   "metadata": {},
   "outputs": [],
   "source": [
    "lags_120 = crear_lags(df, variable=\"value\", num_lags=48)"
   ]
  },
  {
   "cell_type": "code",
   "execution_count": 411,
   "id": "b8d86928",
   "metadata": {},
   "outputs": [],
   "source": [
    "#df['lag_168'] = df['value'].shift(24*7)"
   ]
  },
  {
   "cell_type": "markdown",
   "id": "ea73808a",
   "metadata": {},
   "source": [
    "## Variables de medias móviles"
   ]
  },
  {
   "cell_type": "code",
   "execution_count": 412,
   "id": "e20ef96f",
   "metadata": {},
   "outputs": [],
   "source": [
    "def min_movil(df, variable, num_periodos = 7):\n",
    "\n",
    "    minm = pd.DataFrame()\n",
    "    \n",
    "    for cada in range(2,num_periodos+1):\n",
    "        minm[variable + '_minm_' + str(cada)] = df[variable].shift(1).rolling(cada).min()\n",
    "    \n",
    "    #Devuelve el dataframe de lags\n",
    "    return(minm)"
   ]
  },
  {
   "cell_type": "code",
   "execution_count": 413,
   "id": "f4f0836f",
   "metadata": {},
   "outputs": [],
   "source": [
    "def media_movil(df, variable, num_periodos = 7):\n",
    "\n",
    "    mm = pd.DataFrame()\n",
    "    \n",
    "    for cada in range(2,num_periodos+1):\n",
    "        mm[variable + '_mm_' + str(cada)] = df[variable].shift(1).rolling(cada).mean()\n",
    "    \n",
    "    #Devuelve el dataframe de lags\n",
    "    return(mm)"
   ]
  },
  {
   "cell_type": "code",
   "execution_count": 414,
   "id": "6ca530d8",
   "metadata": {},
   "outputs": [],
   "source": [
    "def max_movil(df, variable, num_periodos = 7):\n",
    "\n",
    "    maxm = pd.DataFrame()\n",
    "    \n",
    "    for cada in range(2,num_periodos+1):\n",
    "        maxm[variable + '_maxm_' + str(cada)] = df[variable].shift(1).rolling(cada).max()\n",
    "    \n",
    "    #Devuelve el dataframe de lags\n",
    "    return(maxm)"
   ]
  },
  {
   "cell_type": "code",
   "execution_count": 415,
   "id": "88ad065d",
   "metadata": {},
   "outputs": [],
   "source": [
    "value_min_movil_df = min_movil(df, variable = 'value', num_periodos=24)"
   ]
  },
  {
   "cell_type": "code",
   "execution_count": 416,
   "id": "b41adc16",
   "metadata": {},
   "outputs": [],
   "source": [
    "value_mean_movil_df = media_movil(df, variable = 'value', num_periodos= 24)"
   ]
  },
  {
   "cell_type": "code",
   "execution_count": 417,
   "id": "9dcdcd73",
   "metadata": {},
   "outputs": [],
   "source": [
    "value_max_movil_df = max_movil(df, variable = 'value', num_periodos= 24)"
   ]
  },
  {
   "cell_type": "code",
   "execution_count": 418,
   "id": "13db6709",
   "metadata": {},
   "outputs": [],
   "source": [
    "#value_mean_movil_df_168 = df['value'].shift(1).rolling(168).mean()\n",
    "#value_max_movil_df_168 = df['value'].shift(1).rolling(168).max()\n",
    "#value_min_movil_df_168 = df['value'].shift(1).rolling(168).min()"
   ]
  },
  {
   "cell_type": "markdown",
   "id": "a96cf712",
   "metadata": {},
   "source": [
    "## Unimos todo"
   ]
  },
  {
   "cell_type": "code",
   "execution_count": 419,
   "id": "27835bfb",
   "metadata": {},
   "outputs": [],
   "source": [
    "df_todo = pd.concat([df, lags_120, value_min_movil_df, value_mean_movil_df, value_max_movil_df], axis = 1)"
   ]
  },
  {
   "cell_type": "code",
   "execution_count": 420,
   "id": "da135d74",
   "metadata": {},
   "outputs": [
    {
     "data": {
      "text/plain": [
       "np.int64(0)"
      ]
     },
     "execution_count": 420,
     "metadata": {},
     "output_type": "execute_result"
    }
   ],
   "source": [
    "df_todo.duplicated().sum()"
   ]
  },
  {
   "cell_type": "code",
   "execution_count": 421,
   "id": "115396ab",
   "metadata": {},
   "outputs": [],
   "source": [
    "df_todo.dropna(inplace=True)"
   ]
  },
  {
   "cell_type": "markdown",
   "id": "5d26ba20",
   "metadata": {},
   "source": [
    "# One Hot Encoding"
   ]
  },
  {
   "cell_type": "code",
   "execution_count": 422,
   "id": "397c13e6",
   "metadata": {},
   "outputs": [],
   "source": [
    "from sklearn.preprocessing import OneHotEncoder"
   ]
  },
  {
   "cell_type": "code",
   "execution_count": 423,
   "id": "8503a0a7",
   "metadata": {},
   "outputs": [],
   "source": [
    "var_ohe = ['hora',\n",
    "          'dia_semana',\n",
    "          'mes',\n",
    "          'trimestre',\n",
    "          'año',\n",
    "          'festivo',\n",
    "          \"fin_de_semana\",\n",
    "          \"es_navidad_fin_anio\",\n",
    "          \"es_verano\",\n",
    "          \"es_navidad\",  \n",
    "        ]"
   ]
  },
  {
   "cell_type": "code",
   "execution_count": 424,
   "id": "6b6fab40",
   "metadata": {},
   "outputs": [],
   "source": [
    "ohe = OneHotEncoder(sparse_output = False, handle_unknown='ignore')"
   ]
  },
  {
   "cell_type": "code",
   "execution_count": 425,
   "id": "fca7cecc",
   "metadata": {},
   "outputs": [],
   "source": [
    "df_todo_ohe = ohe.fit_transform(df_todo[var_ohe])"
   ]
  },
  {
   "cell_type": "code",
   "execution_count": 426,
   "id": "f11b50a3",
   "metadata": {},
   "outputs": [],
   "source": [
    "df_todo_ohe = pd.DataFrame(df_todo_ohe, columns = ohe.get_feature_names_out())"
   ]
  },
  {
   "cell_type": "markdown",
   "id": "49f24e9b",
   "metadata": {},
   "source": [
    "# Juntamos los dataframes"
   ]
  },
  {
   "cell_type": "code",
   "execution_count": 431,
   "id": "5beca282",
   "metadata": {},
   "outputs": [],
   "source": [
    "df_definitivo = pd.concat([df_todo, df_todo_ohe], axis = 1)"
   ]
  },
  {
   "cell_type": "code",
   "execution_count": 432,
   "id": "60f78afa",
   "metadata": {},
   "outputs": [],
   "source": [
    "df_definitivo.dropna(inplace=True)"
   ]
  },
  {
   "cell_type": "code",
   "execution_count": 433,
   "id": "351fb5af",
   "metadata": {},
   "outputs": [
    {
     "data": {
      "text/plain": [
       "np.int64(0)"
      ]
     },
     "execution_count": 433,
     "metadata": {},
     "output_type": "execute_result"
    }
   ],
   "source": [
    "df_definitivo.duplicated().sum()"
   ]
  },
  {
   "cell_type": "code",
   "execution_count": 434,
   "id": "5fe94244",
   "metadata": {},
   "outputs": [],
   "source": [
    "#df_definitivo.drop(columns = [\"hora\",\"dia_semana\",\"mes\",\"trimestre\",\"año\",\"festivo\",\"fin_de_semana\", \"es_navidad_fin_anio\", \"es_verano\", \"es_navidad\"], inplace = True)"
   ]
  },
  {
   "cell_type": "code",
   "execution_count": 435,
   "id": "5bc4cf70",
   "metadata": {},
   "outputs": [],
   "source": [
    "df_definitivo.to_pickle(r\"C:\\Users\\dpine\\red_electrica\\red_electrica\\data\\df_definitivo.pickle\")"
   ]
  },
  {
   "cell_type": "code",
   "execution_count": 436,
   "id": "9c56cd30",
   "metadata": {},
   "outputs": [],
   "source": [
    "df_definitivo.to_csv(r\"C:\\Users\\dpine\\red_electrica\\red_electrica\\data\\df_definitivo2.csv\")"
   ]
  },
  {
   "cell_type": "markdown",
   "id": "8b58955b",
   "metadata": {},
   "source": [
    "precio electricidad, temperatura cada mes"
   ]
  },
  {
   "cell_type": "markdown",
   "id": "68652727",
   "metadata": {},
   "source": [
    "atipicos, describe()"
   ]
  },
  {
   "cell_type": "markdown",
   "id": "6e76650a",
   "metadata": {},
   "source": []
  }
 ],
 "metadata": {
  "kernelspec": {
   "display_name": "venv2",
   "language": "python",
   "name": "python3"
  },
  "language_info": {
   "codemirror_mode": {
    "name": "ipython",
    "version": 3
   },
   "file_extension": ".py",
   "mimetype": "text/x-python",
   "name": "python",
   "nbconvert_exporter": "python",
   "pygments_lexer": "ipython3",
   "version": "3.12.3"
  }
 },
 "nbformat": 4,
 "nbformat_minor": 5
}
